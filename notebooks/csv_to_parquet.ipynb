{
 "cells": [
  {
   "cell_type": "code",
   "execution_count": 6,
   "id": "operating-roommate",
   "metadata": {},
   "outputs": [],
   "source": [
    "    import pandas as pd\n",
    "    import os\n",
    "    df = pd.read_csv('../data/coffee.csv')\n",
    "    out_dirname = '/tmp'\n",
    "    os.makedirs(out_dirname, exist_ok=True)\n",
    "    df.to_parquet(out_dirname + '/coffee.parquet')"
   ]
  },
  {
   "cell_type": "code",
   "execution_count": 12,
   "id": "placed-solid",
   "metadata": {},
   "outputs": [
    {
     "data": {
      "text/plain": [
       "coffee_type    2\n",
       "has_milk       2\n",
       "dtype: int64"
      ]
     },
     "execution_count": 12,
     "metadata": {},
     "output_type": "execute_result"
    }
   ],
   "source": [
    "    df = pd.read_parquet(out_dirname + '/coffee.parquet')\n",
    "    coffees = df[df['has_milk'] == False]\n",
    "    coffees.count()"
   ]
  },
  {
   "cell_type": "code",
   "execution_count": null,
   "id": "drawn-budget",
   "metadata": {},
   "outputs": [],
   "source": []
  },
  {
   "cell_type": "code",
   "execution_count": null,
   "id": "reserved-intermediate",
   "metadata": {},
   "outputs": [],
   "source": []
  }
 ],
 "metadata": {
  "kernelspec": {
   "display_name": "Python 3",
   "language": "python",
   "name": "python3"
  },
  "language_info": {
   "codemirror_mode": {
    "name": "ipython",
    "version": 3
   },
   "file_extension": ".py",
   "mimetype": "text/x-python",
   "name": "python",
   "nbconvert_exporter": "python",
   "pygments_lexer": "ipython3",
   "version": "3.8.6"
  }
 },
 "nbformat": 4,
 "nbformat_minor": 5
}
