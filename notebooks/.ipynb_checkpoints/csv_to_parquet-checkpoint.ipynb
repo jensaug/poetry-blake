{
 "cells": [
  {
   "cell_type": "code",
   "execution_count": 5,
   "id": "operating-roommate",
   "metadata": {},
   "outputs": [],
   "source": [
    "    import pandas as pd\n",
    "    import os\n",
    "    df = pd.read_csv('../data/coffee.csv')\n",
    "    out_dirname = '/tmp'\n",
    "    os.makedirs(out_dirname, exist_ok=True)\n",
    "    df.to_parquet(out_dirname + '/coffee.parquet')"
   ]
  },
  {
   "cell_type": "code",
   "execution_count": null,
   "id": "numerous-weight",
   "metadata": {},
   "outputs": [],
   "source": []
  }
 ],
 "metadata": {
  "kernelspec": {
   "display_name": "Python 3",
   "language": "python",
   "name": "python3"
  },
  "language_info": {
   "codemirror_mode": {
    "name": "ipython",
    "version": 3
   },
   "file_extension": ".py",
   "mimetype": "text/x-python",
   "name": "python",
   "nbconvert_exporter": "python",
   "pygments_lexer": "ipython3",
   "version": "3.8.6"
  }
 },
 "nbformat": 4,
 "nbformat_minor": 5
}
